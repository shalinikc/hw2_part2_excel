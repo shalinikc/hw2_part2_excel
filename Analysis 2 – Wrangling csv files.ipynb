{
 "cells": [
  {
   "cell_type": "markdown",
   "id": "63cf50c8",
   "metadata": {},
   "source": [
    "# Step 1 – Consolidation\n",
    "\n",
    "Combine all of the csv files in a single Excel workbook – one csv file per sheet. The sheet names should be the name of the csv file but without the csv extension. It’s ok if the first sheet is just a blank sheet followed by all of the data sheets for the csv files.\n",
    "\n",
    "The Excel file should be named using just the characters in the filenames before the first hyphen. For the logs I’ve given you, the file will be called BCM.xlsx.\n",
    "\n",
    "Each data sheet should have the following column headers in A1:C1 – datetime, scale, temperature. Here’s a little snippet of how the workbook looks after this consolidation phase:\n"
   ]
  },
  {
   "cell_type": "markdown",
   "id": "6279cc67",
   "metadata": {},
   "source": [
    "# Your job\n",
    "Well, this is a Python based course, so you’ve probably already guessed that you need to do this in Python. You cannot use Excel for any part of this other than for checking if what you are doing is working. 😊\n",
    "\n",
    "There are a number of ways this could be done, but I will share a rough sketch of the general strategy I used and some general hints, suggestions and requirements.\n",
    "\n",
    "At a high level, this was my approach:\n"
   ]
  },
  {
   "cell_type": "markdown",
   "id": "4dea73c3",
   "metadata": {},
   "source": [
    "# 1.\tProject setup\n",
    "\n",
    "a.\tUse one of our cookiecutters to set up an appropriate folder structure.\n",
    "\n",
    "b.\tManually copy the \\logs folder into an appropriate place in your project folder. \n",
    "\n",
    "c.\tCreate a Jupyter Notebook or a .py file in which to develop your code.\n",
    "\n",
    "d.\tPut your project under version control with git.\n"
   ]
  },
  {
   "cell_type": "markdown",
   "id": "e912a0bf",
   "metadata": {},
   "source": [
    "# 2.\tCreate blank Excel file named BCM.xlsx\n",
    "\n",
    "a.\tUse the openpyxl library to do this with Python. The openpyxl library is already installed in the aap conda virtual environment.\n",
    "\n",
    "b.\tYou can simply hard code the filename BCM.xlsx. \n",
    "\n",
    "c.\tWhen you save the blank notebook using openpyxl, it will have one sheet in it (which is totally fine).\n"
   ]
  },
  {
   "cell_type": "code",
   "execution_count": 1,
   "id": "c235e758",
   "metadata": {},
   "outputs": [],
   "source": [
    "import openpyxl\n",
    "from openpyxl import Workbook\n",
    "import csv\n",
    "import os\n",
    "from glob import glob\n",
    "from pathlib import Path\n",
    "import pandas as pd"
   ]
  },
  {
   "cell_type": "code",
   "execution_count": 2,
   "id": "7a76c080",
   "metadata": {},
   "outputs": [],
   "source": [
    "#!pip install XlsxWriter"
   ]
  },
  {
   "cell_type": "code",
   "execution_count": 3,
   "id": "bfa404e7",
   "metadata": {},
   "outputs": [],
   "source": [
    "file_path = './output/BCM.xlsx'"
   ]
  },
  {
   "cell_type": "markdown",
   "id": "c3b7070f",
   "metadata": {},
   "source": [
    "# 3.\tInsert the contents of each csv into a new sheet in BCM.xlsx\n",
    "a.\tFor this I used pandas and pathlib. Just used file globbing and a loop.\n"
   ]
  },
  {
   "cell_type": "code",
   "execution_count": 4,
   "id": "4fb16ffa",
   "metadata": {},
   "outputs": [],
   "source": [
    "wb = Workbook()\n",
    "wb.save(file_path)"
   ]
  },
  {
   "cell_type": "markdown",
   "id": "b7aa0ea0",
   "metadata": {},
   "source": [
    "b.\tRead each csv into a pandas dataframe. HINT: Look at the pandas read_csv documentation to see what useful things you can accomplish during the file reading process.\n",
    "\n",
    "c.\tInserted each dataframe into the Excel file using the appropriate dataframe method."
   ]
  },
  {
   "cell_type": "code",
   "execution_count": 5,
   "id": "59d6d7da",
   "metadata": {
    "scrolled": false
   },
   "outputs": [],
   "source": [
    "csvs_path = Path.cwd() / 'data' / 'logs'\n",
    "\n",
    "writer = pd.ExcelWriter(file_path, engine='xlsxwriter')\n",
    "\n",
    "# Loop over all the csv files \n",
    "for csv_fn in csvs_path.glob('*.csv'):\n",
    "    # Split the filename off from csv extension. We'll use the filename\n",
    "    # (without the extension) as the key in the dfs dict.\n",
    "    #print(csv_fn)\n",
    "    fstem = csv_fn.stem\n",
    "\n",
    "    # Read the next csv file into a pandas DataFrame and add it to the dfs dictionary.\n",
    "    df = pd.read_csv(csv_fn)\n",
    "    df.columns =['Datetime', 'Temperature scale', 'Temperature']\n",
    "    df['Datetime']= pd.to_datetime(df['Datetime'])\n",
    "    #print(df)\n",
    "    \n",
    "    # Write your DataFrame to a file   \n",
    "    df.to_excel(writer, fstem,index=False)\n",
    "\n",
    "\n",
    "# Save the result\n",
    "writer.save()"
   ]
  },
  {
   "cell_type": "markdown",
   "id": "a8f7bc53",
   "metadata": {},
   "source": [
    "# Step 2 – Summarization\n",
    "Your client now wants you to add some simple formulas to each sheet showing the minimum, maximum, and average of the temperature values. The labels should be in G2:G4 and the formulas in H2:H4. Notice, they want actual Excel formulas in H2:H4, not just computed values. Here’s a screenshot to make this clearer. Notice the nice cell formatting in column H. In addition, compute the minimum and maximum of the datetime field in rows 6 and 7.\n",
    "\n"
   ]
  },
  {
   "cell_type": "markdown",
   "id": "7c4a87a3",
   "metadata": {},
   "source": [
    "# 4.\tAdd the formulas\n",
    "a.\tReopened the modified Excel file with openpyxl.\n",
    "\n",
    "b.\tLoop over the appropriate sheets and create the formulas and adjacent labels.\n",
    "\n",
    "c.\tThe openpyxl Tutorial at https://openpyxl.readthedocs.io/en/stable/tutorial.html has some useful information.\n",
    "\n",
    "d.\tSave the Excel file.\n"
   ]
  },
  {
   "cell_type": "code",
   "execution_count": 6,
   "id": "26426a38",
   "metadata": {},
   "outputs": [],
   "source": [
    "load = openpyxl.load_workbook(filename = file_path)\n",
    "\n",
    "used_cols = ['A','B','C','G','H']"
   ]
  },
  {
   "cell_type": "code",
   "execution_count": 10,
   "id": "9052aa52",
   "metadata": {},
   "outputs": [],
   "source": [
    "for sheet in load:    \n",
    "    \n",
    "    sheet.cell(row=2, column=7).value = 'min_temp'\n",
    "    sheet.cell(row=2, column=8).value = f\"=MIN(C2:C{sheet.max_row})\"   \n",
    "    \n",
    "    sheet.cell(row=3, column=7).value = 'max_temp'\n",
    "    sheet.cell(row=3, column=8).value = f\"=MAX(C2:C{sheet.max_row})\" \n",
    "    \n",
    "    sheet.cell(row=4, column=7).value = 'mean_temp'\n",
    "    sheet.cell(row=4, column=8).value = f\"=ROUND(AVERAGE(C2:C{sheet.max_row}),2)\"\n",
    "    \n",
    "    sheet.cell(row=6, column=7).value = 'min_date'\n",
    "    sheet.cell(row=6, column=8).value = f\"=MIN(A2:A{sheet.max_row})\" \n",
    "    sheet.cell(row=6, column=8).number_format = \"mm/dd/yyyy hh:mm:ss\";\n",
    "    \n",
    "    sheet.cell(row=7, column=7).value = 'max_date'\n",
    "    sheet.cell(row=7, column=8).value = f\"=Max(A2:A{sheet.max_row})\"\n",
    "    sheet.cell(row=7, column=8).number_format = \"mm/dd/yyyy hh:mm:ss\";\n",
    "    \n",
    "    # auto resizing the columns\n",
    "    for col in used_cols:\n",
    "        sheet.column_dimensions[col].auto_size = True\n",
    "    \n",
    "load.save(filename = file_path)    "
   ]
  },
  {
   "cell_type": "markdown",
   "id": "bd07f01b",
   "metadata": {},
   "source": [
    "# EXTRA CREDIT:\n",
    "\n",
    "Create a version of your stream logger code that will work even if there are files from multiple streams and where each stream gets its own Excel file. For example, instead of just filenames starting with “BCM” (the stream identifier), there were other filenames starting with “JEF”, “MAE”, and more. Make sure that each csv gets put into the correct xlsx file. "
   ]
  },
  {
   "cell_type": "code",
   "execution_count": null,
   "id": "ba9b23d4",
   "metadata": {},
   "outputs": [],
   "source": []
  }
 ],
 "metadata": {
  "kernelspec": {
   "display_name": "Python 3 (ipykernel)",
   "language": "python",
   "name": "python3"
  },
  "language_info": {
   "codemirror_mode": {
    "name": "ipython",
    "version": 3
   },
   "file_extension": ".py",
   "mimetype": "text/x-python",
   "name": "python",
   "nbconvert_exporter": "python",
   "pygments_lexer": "ipython3",
   "version": "3.9.7"
  }
 },
 "nbformat": 4,
 "nbformat_minor": 5
}
